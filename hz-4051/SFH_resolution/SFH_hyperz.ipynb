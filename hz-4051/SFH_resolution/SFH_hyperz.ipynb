{
 "cells": [
  {
   "cell_type": "markdown",
   "metadata": {},
   "source": [
    "# Comparing true SFHs with those resolved from best fitting to broadband photometry using Hyperz"
   ]
  },
  {
   "cell_type": "code",
   "execution_count": 1,
   "metadata": {},
   "outputs": [
    {
     "name": "stderr",
     "output_type": "stream",
     "text": [
      "/usr/lib/python3.6/importlib/_bootstrap.py:219: RuntimeWarning: numpy.ufunc size changed, may indicate binary incompatibility. Expected 192 from C header, got 216 from PyObject\n",
      "  return f(*args, **kwds)\n"
     ]
    }
   ],
   "source": [
    "import numpy as np\n",
    "import pandas as pd\n",
    "import matplotlib.pyplot as plt"
   ]
  },
  {
   "cell_type": "code",
   "execution_count": 2,
   "metadata": {},
   "outputs": [
    {
     "data": {
      "text/plain": [
       "Index(['z', 't/Gyr', 'M*', 'VIS', 'NISP_Y', 'NISP_J', 'NISP_H', 'LSST_u',\n",
       "       'LSST_g', 'LSST_r', 'LSST_i', 'LSST_y', 'LSST_z', 'GAIA_Bp', 'GAIA_G',\n",
       "       'GAIA_Rp', 'des_g', 'des_r', 'des_i', 'des_z', 'galex1500', 'galex2500',\n",
       "       'MegaCam_u', 'MegaCam_r', 'kids_u', 'kids_g', 'kids_r', 'kids_i',\n",
       "       'U_JKC', 'B_JKC', 'V_JKC', 'I_JKC', 'JPCam_g', 'PanSTA_i', 'Pan-STA_z',\n",
       "       'HSC_z', '2MASS_J', '2MASS_H', '2MASS_Ks', 'wircam_Ks', 'M_initial',\n",
       "       'Z', 'SFH', 'tau/Gyr', 'Av_law', 'Av', 't_l', 'physical'],\n",
       "      dtype='object')"
      ]
     },
     "execution_count": 2,
     "metadata": {},
     "output_type": "execute_result"
    }
   ],
   "source": [
    "df = pd.read_csv('full_subset_good.csv', index_col=0) # The mock galaxy catalogue\n",
    "df.columns"
   ]
  },
  {
   "cell_type": "code",
   "execution_count": 3,
   "metadata": {},
   "outputs": [],
   "source": [
    "path = r'/home/chris/Documents/ZPHOT1.3/src/' # Hyperz directory"
   ]
  },
  {
   "cell_type": "code",
   "execution_count": 4,
   "metadata": {},
   "outputs": [],
   "source": [
    "# the results from Hyperz for three filter choices:\n",
    "all_zphot = np.loadtxt(path + 'new_ugrizVisYJH_results/ugrizVisYJH_hz.z_phot')\n",
    "\n",
    "grizVisYJH_zphot = np.loadtxt(path + 'new_grizVisYJH_results/grizVisYJH_hz.z_phot')\n",
    "\n",
    "VisYJH_zphot = np.loadtxt(path + 'new_VisYJH_results/VisYJH_hz.z_phot')"
   ]
  },
  {
   "cell_type": "markdown",
   "metadata": {},
   "source": [
    "Since Hyperz doesn't explicitly output the SFH of the best-fitting template, we need to find another way to retrieve this. In column 5, the SpT (Spectral Type) is output. It shows which template was used to provide the lowest $\\chi^2$ spectra. Since we know the values of tau in these templates, we can work backwards. \n",
    "\n",
    "I define a new list of retrieved tau for three filter choices and find where these match the model input (df). \n",
    "\n",
    "The templates are the following:\n",
    " - new_mar05_tau1.Z004.salp.ised \n",
    " - new_mar05_tau1.Z002.salp.ised \n",
    " - new_mar05_tau1.Z004.salp.ised \n",
    " - new_mar05_tau01.Z002.salp.ised\n",
    " - new_mar05_tau01.Z004.salp.ised\n",
    " - new_mar05_tau10.Z002.salp.ised\n",
    " - new_mar05_tau10.Z004.salp.ised\n",
    " - new_mar05_tau3.Z002.salp.ised \n",
    "\n",
    "These are listed 1-8 in the SpT column."
   ]
  },
  {
   "cell_type": "code",
   "execution_count": 5,
   "metadata": {},
   "outputs": [],
   "source": [
    "all_tau = np.empty(1013)\n",
    "for i in range(len(all_zphot)):\n",
    "    if all_zphot[i, 4] < 4:\n",
    "        all_tau[i] = 1.\n",
    "    elif all_zphot[i, 4] > 3 and all_zphot[i, 4] < 6: \n",
    "        all_tau[i] = 0.1\n",
    "    elif all_zphot[i, 4] == 8:\n",
    "        all_tau[i] = 3\n",
    "    else:\n",
    "        all_tau[i] = 10"
   ]
  },
  {
   "cell_type": "code",
   "execution_count": 6,
   "metadata": {},
   "outputs": [],
   "source": [
    "grizVisYJH_tau = np.empty(1013)\n",
    "for i in range(len(grizVisYJH_zphot)):\n",
    "    if grizVisYJH_zphot[i, 4] < 4:\n",
    "        grizVisYJH_tau[i] = 1.\n",
    "    elif grizVisYJH_zphot[i, 4] > 3 and grizVisYJH_zphot[i, 4] < 6: \n",
    "        grizVisYJH_tau[i] = 0.1\n",
    "    elif grizVisYJH_zphot[i, 4] == 8:\n",
    "        grizVisYJH_tau[i] = 3\n",
    "    else:\n",
    "        grizVisYJH_tau[i] = 10"
   ]
  },
  {
   "cell_type": "code",
   "execution_count": 7,
   "metadata": {},
   "outputs": [],
   "source": [
    "VisYJH_tau = np.empty(1013)\n",
    "for i in range(len(VisYJH_zphot)):\n",
    "    if VisYJH_zphot[i, 4] < 4:\n",
    "        VisYJH_tau[i] = 1.\n",
    "    elif VisYJH_zphot[i, 4] > 3 and VisYJH_zphot[i, 4] < 6: \n",
    "        VisYJH_tau[i] = 0.1\n",
    "    elif VisYJH_zphot[i, 4] == 8:\n",
    "        VisYJH_tau[i] = 3\n",
    "    else:\n",
    "        VisYJH_tau[i] = 10"
   ]
  },
  {
   "cell_type": "code",
   "execution_count": 9,
   "metadata": {},
   "outputs": [
    {
     "name": "stdout",
     "output_type": "stream",
     "text": [
      "ugriz VIS YJH finds that 27.05 percent of SFH are correctly resolved\n",
      "griz VIS YJH finds that 28.23 percent of SFH are correctly resolved\n",
      "VIS YJH finds that 26.65 percent of SFH are correctly resolved\n"
     ]
    }
   ],
   "source": [
    "print('ugriz VIS YJH finds that %.2f percent of SFH are correctly resolved' % (len(np.arange(len(all_tau))[all_tau==df['tau/Gyr']])*100/1013))\n",
    "print('griz VIS YJH finds that %.2f percent of SFH are correctly resolved' % (len(np.arange(len(grizVisYJH_tau))[grizVisYJH_tau==df['tau/Gyr']])*100/1013))\n",
    "print('VIS YJH finds that %.2f percent of SFH are correctly resolved' % ( len(np.arange(len(VisYJH_tau))[VisYJH_tau==df['tau/Gyr']])*100/1013))"
   ]
  },
  {
   "cell_type": "markdown",
   "metadata": {},
   "source": [
    "So we don't actually find much difference here."
   ]
  },
  {
   "cell_type": "markdown",
   "metadata": {},
   "source": [
    "It would be valuable to see how the galaxies which did not find solutions varied in properties from those which did. Maybe again it could be seen that extinction is a problem-factor..."
   ]
  },
  {
   "cell_type": "code",
   "execution_count": 123,
   "metadata": {},
   "outputs": [
    {
     "data": {
      "image/png": "[encoded data removed]",
      "text/plain": [
       "<Figure size 720x216 with 3 Axes>"
      ]
     },
     "metadata": {
      "needs_background": "light"
     },
     "output_type": "display_data"
    }
   ],
   "source": [
    "plt.figure(figsize=(10, 3))\n",
    "\n",
    "plt.subplot(131)\n",
    "plt.title('Metallicity')\n",
    "plt.hist(df['Z'], label = 'In all objects', color='k')\n",
    "plt.hist(df.iloc[np.arange(len(all_tau))[all_tau==df['tau/Gyr']]].Z, label='in SFH matched objects', color='dodgerblue')\n",
    "plt.ylabel('Frequency')\n",
    "plt.xlabel('[Z-H]')\n",
    "\n",
    "ax = plt.gca()\n",
    "plt.legend(bbox_to_anchor=(3.4, -0.2), bbox_transform=ax.transAxes)\n",
    "\n",
    "plt.subplot(132)\n",
    "plt.title('Redshift')\n",
    "plt.hist(df['z'], color='k')\n",
    "plt.hist(df.iloc[np.arange(len(all_tau))[all_tau==df['tau/Gyr']]].z, color='dodgerblue')\n",
    "plt.xlabel('$z$')\n",
    "\n",
    "plt.subplot(133)\n",
    "plt.title('Dust Reddening')\n",
    "plt.hist(df['Av'], color='k')\n",
    "plt.hist(df.iloc[np.arange(len(all_tau))[all_tau==df['tau/Gyr']]].Av, color='dodgerblue')\n",
    "plt.xlabel('$A_v$')\n",
    "\n",
    "#plt.savefig('SFH_match_properties.png', dpi=200, transparent=False, format='png', bbox_inches='tight', pad_inches=0.1)"
   ]
  },
  {
   "cell_type": "markdown",
   "metadata": {},
   "source": [
    "This wouldn't appear to be the case. Let's explore how the frequency of SFHs compares with the true distribution:"
   ]
  },
  {
   "cell_type": "code",
   "execution_count": 122,
   "metadata": {},
   "outputs": [
    {
     "data": {
      "image/png": "[encoded data removed]",
      "text/plain": [
       "<Figure size 288x288 with 1 Axes>"
      ]
     },
     "metadata": {
      "needs_background": "light"
     },
     "output_type": "display_data"
    }
   ],
   "source": [
    "plt.figure(figsize=(4, 4))\n",
    "plt.hist(df['tau/Gyr'], color='k', alpha=1, label='Input SFH')\n",
    "plt.hist(all_tau, fill=False, lw=2, edgecolor='r', label='Hyperz SFH')\n",
    "plt.xlabel(r'$\\tau /Gyr$')\n",
    "plt.ylabel('Frequency')\n",
    "plt.legend()\n",
    "#plt.savefig('SFH_in_out.png', dpi=200, transparent=False, format='png', bbox_inches='tight', pad_inches=0.1)"
   ]
  },
  {
   "cell_type": "markdown",
   "metadata": {},
   "source": [
    "It would appear that $\\tau =$ 0.3Gyr is significantly underrepresented in our results, while $\\tau =$ 0.1Gyr is severely overrepresented. More galaxy properties may need to be explored here. Maybe age is the problem. "
   ]
  }
 ],
 "metadata": {
  "kernelspec": {
   "display_name": "Python 3",
   "language": "python",
   "name": "python3"
  },
  "language_info": {
   "codemirror_mode": {
    "name": "ipython",
    "version": 3
   },
   "file_extension": ".py",
   "mimetype": "text/x-python",
   "name": "python",
   "nbconvert_exporter": "python",
   "pygments_lexer": "ipython3",
   "version": "3.6.9"
  }
 },
 "nbformat": 4,
 "nbformat_minor": 4
}
